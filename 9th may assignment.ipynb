{
 "cells": [
  {
   "cell_type": "code",
   "execution_count": 9,
   "id": "25a2bd48-88c9-47e9-9ef5-a618532930b5",
   "metadata": {},
   "outputs": [],
   "source": [
    "# Q1. Create one variable containing following type of data:\n",
    "# (i) string\n",
    "# (ii) list\n",
    "# (iii) float\n",
    "# (iv) tuple"
   ]
  },
  {
   "cell_type": "code",
   "execution_count": 1,
   "id": "a986f9f7-a187-4a7d-9f25-8bc832433f89",
   "metadata": {},
   "outputs": [
    {
     "name": "stdout",
     "output_type": "stream",
     "text": [
      "<class 'str'>\n"
     ]
    }
   ],
   "source": [
    "# string\n",
    "A= \"Shivangi\"\n",
    "print (type(A))"
   ]
  },
  {
   "cell_type": "code",
   "execution_count": 2,
   "id": "297d7b0b-88c6-46f7-b2fd-caaf4422f922",
   "metadata": {},
   "outputs": [
    {
     "name": "stdout",
     "output_type": "stream",
     "text": [
      "<class 'list'>\n"
     ]
    }
   ],
   "source": [
    "# list\n",
    "B = [\"shivangi\",23,45.76,True,4+6j]\n",
    "print (type(B))"
   ]
  },
  {
   "cell_type": "code",
   "execution_count": 3,
   "id": "377f4ab2-7e2d-4add-ac92-4cb75a471ab2",
   "metadata": {},
   "outputs": [
    {
     "name": "stdout",
     "output_type": "stream",
     "text": [
      "<class 'float'>\n"
     ]
    }
   ],
   "source": [
    "# float\n",
    "C = 54.65\n",
    "print (type(C))"
   ]
  },
  {
   "cell_type": "code",
   "execution_count": 4,
   "id": "b1808d77-c601-48e3-94ec-087a9683c060",
   "metadata": {},
   "outputs": [
    {
     "name": "stdout",
     "output_type": "stream",
     "text": [
      "<class 'tuple'>\n"
     ]
    }
   ],
   "source": [
    "#  tuple\n",
    "D = (\"shivangi\",23,45.76,True,4+6j)\n",
    "print (type(D))"
   ]
  },
  {
   "cell_type": "code",
   "execution_count": 11,
   "id": "acd17cd3-c495-48fa-a960-6864416d8cae",
   "metadata": {},
   "outputs": [],
   "source": [
    "# Q2. Given are some following variables containing data:\n",
    "# (i) var1 = ‘ ‘\n",
    "# (ii) var2 = ‘[ DS , ML , Python]’\n",
    "# (iii) var3 = [ ‘DS’ , ’ML’ , ‘Python’ ]\n",
    "# (iv) var4 = 1.\n",
    "# What will be the data type of the above given variable."
   ]
  },
  {
   "cell_type": "code",
   "execution_count": 18,
   "id": "d3ef7dd1-4cca-4acf-831a-8ecde3efb08c",
   "metadata": {},
   "outputs": [
    {
     "name": "stdout",
     "output_type": "stream",
     "text": [
      "<class 'str'>\n"
     ]
    }
   ],
   "source": [
    "var1 = ''\n",
    "print (type(var1))\n",
    "# This is String Datatype\n"
   ]
  },
  {
   "cell_type": "code",
   "execution_count": 19,
   "id": "570e3ee5-58c5-4de7-bd71-9c9a80e757d9",
   "metadata": {},
   "outputs": [
    {
     "name": "stdout",
     "output_type": "stream",
     "text": [
      "<class 'str'>\n"
     ]
    }
   ],
   "source": [
    "var2 = '[ DS , ML , Python]'\n",
    "print (type(var2))\n",
    "#This is String Datatype"
   ]
  },
  {
   "cell_type": "code",
   "execution_count": 20,
   "id": "ce2197f6-b187-4628-b2fe-b72a93cad5d8",
   "metadata": {},
   "outputs": [
    {
     "name": "stdout",
     "output_type": "stream",
     "text": [
      "<class 'list'>\n"
     ]
    }
   ],
   "source": [
    "var3 = [ 'DS' , 'ML', 'Python']\n",
    "print (type(var3))\n",
    "#This is List Datatype"
   ]
  },
  {
   "cell_type": "code",
   "execution_count": 25,
   "id": "81def858-f18e-461c-96f6-b934e357471f",
   "metadata": {},
   "outputs": [
    {
     "name": "stdout",
     "output_type": "stream",
     "text": [
      "<class 'float'>\n"
     ]
    }
   ],
   "source": [
    "var4 = 1.\n",
    "print (type(var4))\n",
    "#This is float Datatype"
   ]
  },
  {
   "cell_type": "code",
   "execution_count": 26,
   "id": "7ae8c85b-40c1-4b54-beeb-5163c5ac6d38",
   "metadata": {},
   "outputs": [],
   "source": [
    "# Q3. Explain the use of the following operators using an example:\n",
    "# (i) /\n",
    "# (ii) %\n",
    "# (iii) //\n",
    "# (iv) **"
   ]
  },
  {
   "cell_type": "code",
   "execution_count": 31,
   "id": "5eb50cf3-0693-4549-bc88-36638cf72963",
   "metadata": {},
   "outputs": [
    {
     "name": "stdout",
     "output_type": "stream",
     "text": [
      "14.333333333333334\n"
     ]
    }
   ],
   "source": [
    "(i) / - Division\n",
    "This operator is for division of two operands. this divides the first operand by the second\n",
    "example - \n",
    "E = 43\n",
    "F = 3\n",
    "G =E/F\n",
    "print (G)"
   ]
  },
  {
   "cell_type": "code",
   "execution_count": 33,
   "id": "bf4cf471-565c-406e-8636-90b9b07aa37a",
   "metadata": {},
   "outputs": [
    {
     "name": "stdout",
     "output_type": "stream",
     "text": [
      "2\n"
     ]
    }
   ],
   "source": [
    "(ii) % -Modulus\n",
    "This is Modulus,This returns the remainder when the first operand is divided by the second\n",
    "example\n",
    "H = 35%3\n",
    "print (H)"
   ]
  },
  {
   "cell_type": "code",
   "execution_count": 38,
   "id": "27c82b85-2b6b-4c0d-8d7c-f696c22a88d7",
   "metadata": {},
   "outputs": [
    {
     "name": "stdout",
     "output_type": "stream",
     "text": [
      "1.0\n",
      "2\n"
     ]
    }
   ],
   "source": [
    "(iii) // -Division(floor)\n",
    "This gives the round off of the reminder , The quotient returned by this operator is dependent on the argument being passed ,if you pass float then output will be in float or if you give integer then output will be in integer\n",
    "example\n",
    "print (3.0//2)\n",
    "print (5//2)\n"
   ]
  },
  {
   "cell_type": "code",
   "execution_count": 40,
   "id": "3bd49126-fe89-42d9-8cbc-ff1ce6e81830",
   "metadata": {},
   "outputs": [
    {
     "name": "stdout",
     "output_type": "stream",
     "text": [
      "8\n"
     ]
    }
   ],
   "source": [
    "(iv) ** -Exponential\n",
    "This Returns first raised to power second.ex -2**3 =2*2*2 =8\n",
    "example\n",
    "print (2**3)"
   ]
  },
  {
   "cell_type": "code",
   "execution_count": 42,
   "id": "3f458b8c-e7e4-495d-b065-61e7a06169f1",
   "metadata": {},
   "outputs": [],
   "source": [
    "# Q4. Create a list of length 10 of your choice containing multiple types of data. Using for loop print the\n",
    "# element and its data type."
   ]
  },
  {
   "cell_type": "code",
   "execution_count": 45,
   "id": "d30cf51e-8ee7-4074-b190-f783b2172713",
   "metadata": {},
   "outputs": [
    {
     "name": "stdout",
     "output_type": "stream",
     "text": [
      "Length of list is 10\n",
      "shivangi <class 'str'>\n",
      "1 <class 'int'>\n",
      "10.04 <class 'float'>\n",
      "True <class 'bool'>\n",
      "(5+7j) <class 'complex'>\n",
      "sahu <class 'str'>\n",
      "45 <class 'int'>\n",
      "False <class 'bool'>\n",
      "67.87 <class 'float'>\n",
      "(6+5j) <class 'complex'>\n"
     ]
    }
   ],
   "source": [
    "list1 =[\"shivangi\",1,10.04,True,5+7j,\"sahu\",45,False,67.87,6+5j]\n",
    "print (\"Length of list is\", len(list1))\n",
    "for i in list1 :\n",
    "    print (i,(type(i)))\n",
    "    "
   ]
  },
  {
   "cell_type": "code",
   "execution_count": 46,
   "id": "a9846ae7-a96c-4443-8a3a-1a98c3dee21f",
   "metadata": {},
   "outputs": [],
   "source": [
    "# Q5. Using a while loop, verify if the number A is purely divisible by number B and if so then how many\n",
    "# times it can be divisible."
   ]
  },
  {
   "cell_type": "code",
   "execution_count": 51,
   "id": "c105c62b-2440-4f4c-a772-af2b19e17204",
   "metadata": {},
   "outputs": [
    {
     "name": "stdin",
     "output_type": "stream",
     "text": [
      " 123456\n",
      " 2\n"
     ]
    },
    {
     "name": "stdout",
     "output_type": "stream",
     "text": [
      "1 times  123456 is divisible by number 2\n",
      "2 times  61728 is divisible by number 2\n",
      "3 times  30864 is divisible by number 2\n",
      "4 times  15432 is divisible by number 2\n",
      "5 times  7716 is divisible by number 2\n",
      "6 times  3858 is divisible by number 2\n"
     ]
    }
   ],
   "source": [
    "a=int(input())\n",
    "b=int(input())\n",
    "c=0\n",
    "while a%b==0:\n",
    "    c= c+1\n",
    "    print(c,\"times \", int(a),\"is divisible by number\",b)\n",
    "    a= a/b\n",
    "    \n",
    "\n",
    "        "
   ]
  },
  {
   "cell_type": "code",
   "execution_count": 52,
   "id": "e14852a4-481c-4ffe-9769-48aa91c71fac",
   "metadata": {},
   "outputs": [],
   "source": [
    "# Q6. Create a list containing 25 int type data. Using for loop and if-else condition print if the element is\n",
    "# divisible by 3 or not."
   ]
  },
  {
   "cell_type": "code",
   "execution_count": 54,
   "id": "4f52efb7-1515-4d62-baea-729a4ab393c9",
   "metadata": {},
   "outputs": [
    {
     "name": "stdout",
     "output_type": "stream",
     "text": [
      "3 it is divisible by 3\n",
      "3 it is divisible by 3\n",
      "876 it is divisible by 3\n",
      "6 it is divisible by 3\n",
      "6 it is divisible by 3\n",
      "54 it is divisible by 3\n",
      "3 it is divisible by 3\n",
      "78 it is divisible by 3\n",
      "9 it is divisible by 3\n",
      "87 it is divisible by 3\n",
      "6 it is divisible by 3\n"
     ]
    }
   ],
   "source": [
    "listn =[2,5,3,2,3,4,5,56,5,876,778,76,6,6,54,3,23,78,89,9,87,80,70,6,356]\n",
    "for i in listn:\n",
    "    if i%3==0 :  \n",
    "        print(i,\"it is divisible by 3\")"
   ]
  },
  {
   "cell_type": "code",
   "execution_count": 55,
   "id": "a240a1c6-3a9c-4cea-adc0-a46a515efe36",
   "metadata": {},
   "outputs": [],
   "source": [
    "# Q7. What do you understand about mutable and immutable data types? Give examples for both showing\n",
    "# this property."
   ]
  },
  {
   "cell_type": "code",
   "execution_count": null,
   "id": "2bca3175-f695-469f-bd26-f4187f68ce8a",
   "metadata": {},
   "outputs": [],
   "source": [
    "Mutable data =This types of data allow you to change their value or data, such as list, sets, and dictionary.\n",
    "mutable_list = [\"Shivangi\",20, 56.76,\"sahu\",True]\n",
    "mutable_list[3]= \"Gupta\"\n",
    "mutable_list[4] = \"False\"\n",
    "print(mutable_list)\n",
    "\n",
    "Immutable data =This types of data don't allow this kind of operation, and you can only create new objects with different values, such as int, float, string, and tuple.\n",
    "immut_str = (\"shi\",\"Nitin\",\"Anmol\",\"Bittu\",\"Harsh\")\n",
    "immut_str[3] = \"harshita\"\n",
    "print(immut_str)"
   ]
  }
 ],
 "metadata": {
  "kernelspec": {
   "display_name": "Python 3 (ipykernel)",
   "language": "python",
   "name": "python3"
  },
  "language_info": {
   "codemirror_mode": {
    "name": "ipython",
    "version": 3
   },
   "file_extension": ".py",
   "mimetype": "text/x-python",
   "name": "python",
   "nbconvert_exporter": "python",
   "pygments_lexer": "ipython3",
   "version": "3.10.8"
  }
 },
 "nbformat": 4,
 "nbformat_minor": 5
}
